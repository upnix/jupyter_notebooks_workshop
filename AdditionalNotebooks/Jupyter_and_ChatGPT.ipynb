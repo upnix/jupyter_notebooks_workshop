{
 "cells": [
  {
   "cell_type": "markdown",
   "id": "845d86ff-0c02-481f-a029-30b54586b4a2",
   "metadata": {},
   "source": [
    "# Background"
   ]
  },
  {
   "cell_type": "markdown",
   "id": "786c0e60-4eca-41cf-922f-b051f43eaf04",
   "metadata": {},
   "source": [
    "To try to liven up my presentation a bit I started using examples of how ChatGPT could solve actual problems we had been working with. My pitch is *you don't need to be a programming wizard, by asking the right questions ChatGPT can get you 95% of the way there.*"
   ]
  },
  {
   "cell_type": "markdown",
   "id": "db5d1043-7ce8-4651-afd9-086a81a658b7",
   "metadata": {},
   "source": [
    "# Let SageMath (and ChatGPT) solve Caesar ciphers for you"
   ]
  },
  {
   "cell_type": "markdown",
   "id": "2f5ed363-ccda-47b9-80aa-d8227ba6211d",
   "metadata": {},
   "source": [
    "For my second Connect Session I showed how one could use SageMath and ChatGPT to help solve a Caesar cipher - like the one from our escape room in the first week (see [Wikipedia](https://en.wikipedia.org/wiki/Caesar_cipher) for more on Caesar ciphers). Unfortunately, for the second time now, I've lost track of what the escape room's enciphered text was.  \n",
    "\n",
    "I asked ChatGPT:  \n",
    "> In Python, can you write some code that will take in an alphabetic string then replace each individual letter with the next letter in the alphabet?  \n",
    "\n",
    "Followed by:  \n",
    "> Can you make this a Jupyter widget, with a slider for the number of times shifted?  \n",
    "\n",
    "And we ended up with this:"
   ]
  },
  {
   "cell_type": "code",
   "execution_count": null,
   "id": "35ed3040-8a7c-4ecf-a901-832d2a1e0875",
   "metadata": {
    "tags": []
   },
   "outputs": [],
   "source": [
    "import ipywidgets as widgets\n",
    "from IPython.display import display\n",
    "\n",
    "# Function to shift letters\n",
    "def shift_letters(s, shift):\n",
    "    result = \"\"\n",
    "    for char in s:\n",
    "        if char.isalpha():\n",
    "            shift = shift % 26\n",
    "            ascii_offset = ord('a') if char.islower() else ord('A')\n",
    "            new_char = chr((ord(char) - ascii_offset + shift) % 26 + ascii_offset)\n",
    "            result += new_char\n",
    "        else:\n",
    "            result += char\n",
    "    return result\n",
    "\n",
    "# Widgets\n",
    "text = widgets.Textarea(value='', description='Text:', width=500)\n",
    "slider = widgets.IntSlider(value=1, min=1, max=26, step=1, description='Shift:')\n",
    "button = widgets.Button(description='Shift Letters!')\n",
    "output = widgets.Label()\n",
    "\n",
    "# Handler for button click\n",
    "def on_button_clicked(b):\n",
    "    shifted_text = shift_letters(text.value, slider.value)\n",
    "    output.value = f\"Shifted Text: {shifted_text}\"\n",
    "\n",
    "button.on_click(on_button_clicked)\n",
    "\n",
    "# Display widgets\n",
    "display(text, slider, button, output)\n"
   ]
  },
  {
   "cell_type": "markdown",
   "id": "df253f27-a024-4551-9a47-681913d3d583",
   "metadata": {},
   "source": [
    "This isn't a lot of fun without something to decode (or someone to pass encoded messages with, so here are some things to decode:\n",
    "1. `Kcc! Mci'js xigh rwgqcjsfsr o gsqfsh asggous.`\n",
    "2. `Ocdn fdiy ja \"zixmtkodji\" dn qpgizmvwgz oj njhzocdib xvggzy \"amzlpzixt vivgtndn,\" wzxvpnz ocz amzlpzixt ja gzoozmn di ocz Zibgdnc gvibpvbz dni'o mviyjh vo vgg wpo ajggjrn kvoozmin. Wzxvpnz Xvznvm xdkczmn yji'o yj vitocdib oj wmzvf ocz mzgvodji amjh jiz gzoozm oj ocz zixmtkozy gzoozm rz xvi epno hvoxc ocz amzlpzixt ja ocz \"xdkczm gzoozmn\" oj rcvo rz fijr ja ocz Zibgdnc gvibpvbz!`"
   ]
  },
  {
   "cell_type": "code",
   "execution_count": null,
   "id": "bc414d8c-0af2-4b88-b4b6-9ccc7271d6ef",
   "metadata": {},
   "outputs": [],
   "source": []
  }
 ],
 "metadata": {
  "kernelspec": {
   "display_name": "Python 3 (ipykernel)",
   "language": "python",
   "name": "python3"
  },
  "language_info": {
   "codemirror_mode": {
    "name": "ipython",
    "version": 3
   },
   "file_extension": ".py",
   "mimetype": "text/x-python",
   "name": "python",
   "nbconvert_exporter": "python",
   "pygments_lexer": "ipython3",
   "version": "3.10.12"
  }
 },
 "nbformat": 4,
 "nbformat_minor": 5
}
