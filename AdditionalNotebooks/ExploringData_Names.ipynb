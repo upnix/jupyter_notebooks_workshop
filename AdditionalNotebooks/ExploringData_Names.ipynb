{
 "cells": [
  {
   "cell_type": "markdown",
   "id": "41e9ccbd-83ff-4f4f-8971-c378d5dbdcca",
   "metadata": {},
   "source": [
    "# Note!"
   ]
  },
  {
   "cell_type": "markdown",
   "id": "db3efb85-b94d-4e64-b307-d413a8360b75",
   "metadata": {},
   "source": [
    "This was the original \"section 4\" for my presentation. I've removed it from my workshop because of a large oversight on my part - not all Shads have their name in the Social Security Administration's name database! Even if you've done the \"Exploring data\" section in the main presentation, you may still find it interesting to go through this version as well. The source data is formatted a bit differently, so the analysis is a bit different.  \n",
    "\n",
    "If your name is one of the names not in the dataset - I apologize. I looked for name datasets that were more diverse but didn't have much luck."
   ]
  },
  {
   "cell_type": "markdown",
   "id": "39040e39-b2c5-490d-8c11-a9d73d8e7b48",
   "metadata": {
    "tags": []
   },
   "source": [
    "# 4. Exploring data"
   ]
  },
  {
   "cell_type": "markdown",
   "id": "b0b38552-bd64-4bd0-9c06-34ce4ae67ecc",
   "metadata": {},
   "source": [
    "***How does Jupyter give you superpowers when working with data?***\n",
    "1. It's easy to iterate on your previous code/efforts.\n",
    "2. You can explore *and* present data from the same place *(Jupyter!)*.\n",
    "3. You can get lots done with just the basics, but when needed, much more depth is available."
   ]
  },
  {
   "cell_type": "markdown",
   "id": "9fa31c58-e8a4-46cb-a8c4-bf1efa6bbcc9",
   "metadata": {},
   "source": [
    "<hr />\n",
    "\n",
    "*This section is based on the DigitalOcean tutorial \"Data Analysis and Visualization with Pandas and Jupyter Notebook in Python 3\" ([link](https://www.digitalocean.com/community/tutorials/data-analysis-and-visualization-with-pandas-and-jupyter-notebook-in-python-3))*\n",
    "\n",
    "There are lots of places on the internet where \"raw\" data is published for researchers or the general public to analyze (See the appendix section *Data analysis* in the `Jupyter_Notebooks_Workshop.ipynb` file, under the \"Links\" section). There are many business and academic fields where you can expect to spent significant time loading, cleaning, analyzing, and pondering over data.\n",
    "\n",
    "Jupyter, along with its many available kernels, is a perfect place to not only analyze data, but to present it. We'll do some basic exploratory data analysis here on the top 1000 baby names from 1880 through to 2022, using data from the [United States Social Security Administration](https://www.ssa.gov/oact/babynames/limits.html)."
   ]
  },
  {
   "cell_type": "markdown",
   "id": "e4773fed-ac8f-4f5b-b4ac-8a2ad936d608",
   "metadata": {},
   "source": [
    "## 4.1. Back to the Python kernel!"
   ]
  },
  {
   "cell_type": "markdown",
   "id": "6832ecb2-7c9f-4429-94b2-3b571bd6051a",
   "metadata": {},
   "source": [
    "If you were following along with the *Jupyter in math class* section above, then you're probably still running the \"SageMath\" kernel. Switch back to the \"Python 3\" kernel for the following data work.\n",
    "\n",
    "***To switch to the Python kernel...***\n",
    "1. In the top-right of your notebook, click where it says \"SageMath\".\n",
    "2. In the window that opens, select the kernel \"Python 3\"\n",
    "\n",
    "Done! Now, as you may know, any cells you execute will be handled by your Python kernel!"
   ]
  },
  {
   "cell_type": "markdown",
   "id": "e3e8fd37-e2a4-47ff-80df-f96a396e7b3d",
   "metadata": {},
   "source": [
    "## 4.2. The Python data analysis ecosystem"
   ]
  },
  {
   "cell_type": "markdown",
   "id": "2d07a787-1474-41bc-b334-1cebde4367a2",
   "metadata": {},
   "source": [
    "There have been many additions written for Python that layer on functionality to make working with data easier. These additions, called libraries, can make understanding the Python data analysis landscape a little more difficult. The three libraries listed below - Matplotlib, NumPy, and pandas - are extremely common, but aren't necessarily the only game in town.  "
   ]
  },
  {
   "cell_type": "markdown",
   "id": "b46bb22f-9797-4db9-8e1c-3c9982337f7a",
   "metadata": {},
   "source": [
    "### Matplotlib\n",
    "> Matplotlib is a comprehensive library for creating static, animated, and interactive visualizations in Python. Matplotlib makes easy things easy and hard things possible. --*From [website](https://matplotlib.org/)*\n",
    "\n",
    "Of the three libraries listed here, Matplotlib has the most alternatives available. [Seaborn](https://seaborn.pydata.org/) is one, extending Matplotlib to make more attractive charts that are also interactive. [Plotly](https://plotly.com/python/) is a second, also leaning towards better looking charts and interactivity. Plotly, however, isn't based on Matplotlib.  \n",
    "\n",
    "SageMath uses Matplotlib behind the scenes to create graphs, and we will use it directly in the section [4.7. Graphing data](#4.7.-Graphing-data).\n",
    "\n",
    "### NumPy\n",
    "> NumPy is a library for the Python programming language, adding support for large, multi-dimensional arrays and matrices, along with a large collection of high-level mathematical functions to operate on these arrays. --*From [Wikipedia](https://en.wikipedia.org/wiki/NumPy)*\n",
    "\n",
    "We've used NumPy once in this workshop, and it was in an inconsequential way. I'd suggest not worrying about NumPy until you know you need to use it.\n",
    "\n",
    "**Links:**\n",
    "* *[NumPy website](https://numpy.org/)*\n",
    "\n",
    "### pandas\n",
    "> pandas is a fast, powerful, flexible and easy to use open source data analysis and manipulation tool, built on top of the Python programming language. --*From [website](https://pandas.pydata.org/)*\n",
    "\n",
    "We use pandas extensively in section 4, and unlike NumPy, I don't think you can go wrong learning as much as you can about pandas, as soon as you can (assuming you'd like to get into data analysis).\n",
    "\n",
    "**Links:**\n",
    "* [Python Pandas Tutorial: A Complete Introduction for Beginners](https://www.learndatasci.com/tutorials/python-pandas-tutorial-complete-introduction-for-beginners/)\n",
    "    * A comprehensive tutorial\n",
    "* Official [\"Getting started tutorials\"](https://pandas.pydata.org/docs/getting_started/intro_tutorials/)\n"
   ]
  },
  {
   "cell_type": "markdown",
   "id": "cbf330a9-0858-496e-817c-1bb4f0af3b51",
   "metadata": {},
   "source": [
    "## 4.3. Loading local data"
   ]
  },
  {
   "cell_type": "markdown",
   "id": "3fa00958-7425-4ddf-aa49-30b7fbcfab8c",
   "metadata": {},
   "source": [
    "Your JupyterLab environment should have access to a directory structure that looks, in part, like this (these are the same files you can see when you click the little folder icon on the left):\n",
    "```\n",
    "/\n",
    "    AdditionalNotebooks/\n",
    "    data/\n",
    "    Handouts/\n",
    "    ...\n",
    "    Jupyter_Notebooks_Workshop.ipynb\n",
    "    ...\n",
    "```\n",
    "\n",
    "Right now, we're interested in the `/data/` directory."
   ]
  },
  {
   "cell_type": "code",
   "execution_count": null,
   "id": "19086295-8006-4e8e-9ce5-c88f49a6e6de",
   "metadata": {
    "tags": []
   },
   "outputs": [],
   "source": [
    "# (Cell 430)\n",
    "\n",
    "# The following command (when it's not commented out) will list the\n",
    "# files in your JupyterLab user's home directory:\n",
    "# !ls -F ~\n",
    "\n",
    "# This will list the files in the /data/ directory.\n",
    "!ls -F ../data/"
   ]
  },
  {
   "cell_type": "code",
   "execution_count": null,
   "id": "fa78dab2-e18b-4d19-bcad-ecd07fee220f",
   "metadata": {
    "tags": []
   },
   "outputs": [],
   "source": [
    "# (Cell 431)\n",
    "\n",
    "# Entries ending in a '/' are directories. Let's look inside 'BabyNames'\n",
    "!ls -F ../data/BabyNames"
   ]
  },
  {
   "cell_type": "markdown",
   "id": "2760de64-5a70-42ea-8e79-2d7f703affd2",
   "metadata": {},
   "source": [
    "For some explanation on what the `!` is doing, see the appendix section *Shell commands via Jupyter* in the appendix of the `Jupyter_Notebooks_Workshop.ipynb` file.  \n",
    "\n",
    "We see that each file represents one year. Lets take a peek at what the contents of a file looks like:"
   ]
  },
  {
   "cell_type": "code",
   "execution_count": null,
   "id": "26c94673-b38a-4531-a8b9-dad92d6a51f7",
   "metadata": {
    "tags": []
   },
   "outputs": [],
   "source": [
    "# (Cell 432)\n",
    "\n",
    "# This path might be wrong! FYI for me... or you.\n",
    "# Using Python's `open()` function, we're reading the first 5 lines of\n",
    "# the file.\n",
    "open('../data/BabyNames/yob2004.txt', 'r').readlines()[:5]"
   ]
  },
  {
   "cell_type": "markdown",
   "id": "fe719ec0-601e-406c-aad0-9bb0e9c25451",
   "metadata": {
    "tags": []
   },
   "source": [
    "We can tell this file - and we'll assume all the others - is a CSV: Comma-separated value. This is a fairly common way to distribute raw data, and we can identify it by the commas as well as by the consistent number of values between each comma in any given line. In our case it looks like there are three columns of data \"Name, sex,\" and probably \"Number of babies with this name.\"\n",
    "\n",
    "With a feel for how the data is formatted, we'll use the Python library \"pandas\" to import the data from this file."
   ]
  },
  {
   "cell_type": "code",
   "execution_count": null,
   "id": "3036c762-3013-4680-a291-2f412301accd",
   "metadata": {
    "tags": []
   },
   "outputs": [],
   "source": [
    "# (Cell 433)\n",
    "\n",
    "# Import a Python library called \"pandas\" (Possibly imported previously,\n",
    "# but we can do it again just to be safe).\n",
    "import pandas as pd\n",
    "\n",
    "# Read in one of the files, providing names to each column\n",
    "names2004 = pd.read_csv('../data/BabyNames/yob2004.txt', names = ['Name', 'Sex', 'NumBabies'])\n",
    "\n",
    "print(\"A done deal. We've loaded the file into a Pandas DataFrame.\")"
   ]
  },
  {
   "cell_type": "markdown",
   "id": "df3f8f1b-e50d-40c1-9514-64cbf1a342c7",
   "metadata": {},
   "source": [
    "***A note about DataFrames***  \n",
    "Using pandas' `read_csv()` method, we've created a *[DataFrame](https://pandas.pydata.org/docs/user_guide/dsintro.html#dataframe)* and assigned it to the Python variable `names2004`.  \n",
    "\n",
    "*From the [pandas user guide](https://pandas.pydata.org/docs/user_guide/dsintro.html#dataframe)* -\n",
    "> [A] DataFrame is a 2-dimensional labeled data structure with columns of potentially different types. You can think of it like a spreadsheet [...]."
   ]
  },
  {
   "cell_type": "markdown",
   "id": "e5918968-e361-477f-b4a8-0214c06d09ab",
   "metadata": {},
   "source": [
    "## 4.4. Getting a feel for your data"
   ]
  },
  {
   "cell_type": "markdown",
   "id": "3441cebe-1425-4b72-8ee0-1749145967b3",
   "metadata": {},
   "source": [
    "Above, we loaded the contents of the CSV file `yob2004.txt` into a pandas DataFrame and assigned it to the variable `names2004`. However, we still don't have a sense for how many names are in this file, how many babies are accounted for in those names, the split between sexes, etc.\n",
    "\n",
    "So, lets answer some basic questions."
   ]
  },
  {
   "cell_type": "code",
   "execution_count": null,
   "id": "51610cc0-88ee-4a2f-a65c-7b3d6392589c",
   "metadata": {
    "tags": []
   },
   "outputs": [],
   "source": [
    "# (Cell 440)\n",
    "\n",
    "# How many rows and columns?\n",
    "names2004.shape"
   ]
  },
  {
   "cell_type": "markdown",
   "id": "84c930d1-42fc-4c74-86b5-0354bacf7358",
   "metadata": {},
   "source": [
    "Ah, 32,058 rows with 3 columns."
   ]
  },
  {
   "cell_type": "code",
   "execution_count": null,
   "id": "3eca2987-1459-4f95-93c1-d48464c15f6c",
   "metadata": {
    "tags": []
   },
   "outputs": [],
   "source": [
    "# (Cell 441)\n",
    "\n",
    "# Lets see some example rows; rows from the top:\n",
    "names2004.head()"
   ]
  },
  {
   "cell_type": "code",
   "execution_count": null,
   "id": "167fb02a-42cc-4598-82d7-58a18632dff9",
   "metadata": {
    "tags": []
   },
   "outputs": [],
   "source": [
    "# (Cell 442)\n",
    "# Rows from the bottom:\n",
    "names2004.tail()"
   ]
  },
  {
   "cell_type": "markdown",
   "id": "f36e0d1d-a2f3-45a2-bc6c-2fba1a7cde4e",
   "metadata": {},
   "source": [
    "## 4.5. Filtering data"
   ]
  },
  {
   "cell_type": "markdown",
   "id": "1d7e90d4-c32c-4b1c-b597-47e1ab569326",
   "metadata": {},
   "source": [
    "***The top 10s***  \n",
    "The *pandas* library provides code that implements the *DataFrame* data type. pandas also includes many methods for working with DataFrames.  \n",
    "\n",
    "[`nlargest()`](https://pandas.pydata.org/docs/reference/api/pandas.DataFrame.nlargest.html?highlight=nlargest) is one such method. It will:\n",
    "> Return the first n rows ordered by columns in descending order."
   ]
  },
  {
   "cell_type": "code",
   "execution_count": null,
   "id": "3b11015d-fda7-4ef0-b462-7ccdf57ddd35",
   "metadata": {
    "tags": []
   },
   "outputs": [],
   "source": [
    "# (Cell 450)\n",
    "# Top 10 baby names, male and female:\n",
    "names2004.nlargest(10, columns=['NumBabies'])"
   ]
  },
  {
   "cell_type": "code",
   "execution_count": null,
   "id": "bd014af7-11ca-4274-9c12-4435b6f6f3b5",
   "metadata": {
    "tags": []
   },
   "outputs": [],
   "source": [
    "# (Cell 451)\n",
    "# Top 10 female baby names:\n",
    "names2004[names2004['Sex'] == 'F'].nlargest(10, 'NumBabies')"
   ]
  },
  {
   "cell_type": "code",
   "execution_count": null,
   "id": "107bb962-4482-411a-aa9a-ad17efa8640d",
   "metadata": {
    "tags": []
   },
   "outputs": [],
   "source": [
    "# (Cell 452)\n",
    "# Top 10 male baby names\n",
    "names2004[names2004['Sex'] == 'M'].nlargest(10, 'NumBabies')"
   ]
  },
  {
   "cell_type": "markdown",
   "id": "3e7ef225-ecb0-45cf-800e-4a00ab56e64b",
   "metadata": {},
   "source": [
    "***What about your name?***  \n",
    "*Anywhere I use my name, replace it with your own. Or any other name of interest.*"
   ]
  },
  {
   "cell_type": "code",
   "execution_count": null,
   "id": "610789b0-b385-4aac-90a4-2a6a534fdcda",
   "metadata": {
    "tags": []
   },
   "outputs": [],
   "source": [
    "# (Cell 453)\n",
    "# How many babies born in 2004 had your name?\n",
    "names2004[(names2004['Name'] == 'Chris')]"
   ]
  },
  {
   "cell_type": "code",
   "execution_count": null,
   "id": "86b0e1bd-f8c2-4e75-a74c-b6edc3055e3c",
   "metadata": {
    "tags": []
   },
   "outputs": [],
   "source": [
    "# (Cell 454)\n",
    "\n",
    "# To just see the name for a single sex, add multiple conditions (filters):\n",
    "\n",
    "# We're capturing the condition inside a variable. This isn't strictly\n",
    "# necessary, but it can make things easier to read.\n",
    "single_name_condition = ((names2004['Name'] == 'Chris') & \n",
    "                         (names2004['Sex'] == 'M'))\n",
    "\n",
    "# The condition we created can now be provided to the `names2004` DataFrame\n",
    "names2004[single_name_condition]"
   ]
  },
  {
   "cell_type": "code",
   "execution_count": null,
   "id": "3970fcf9-1ac1-4be9-8a9e-ba878ede1324",
   "metadata": {
    "tags": []
   },
   "outputs": [],
   "source": [
    "# (Cell 455)\n",
    "\n",
    "# But wait! I don't know about you, but I go by two different names:\n",
    "all_names_condition = (((names2004['Name'] == 'Chris') |\n",
    "                        (names2004['Name'] == 'Christopher')) &\n",
    "                       (names2004['Sex'] == 'M')\n",
    "                      )\n",
    "names2004[all_names_condition]"
   ]
  },
  {
   "cell_type": "markdown",
   "id": "5cbac9ca-04de-44ff-a29b-97a8048080cc",
   "metadata": {},
   "source": [
    "Note the increasingly complex conditions being built. Using brackets to ensure correct evaluation, I'm saying \"(Chris OR Christopher), AND a sex of 'M'\".\n",
    "\n",
    "There's no (reasonable) limit on the conditions you can give. Feel free to try anything that looks interesting to you."
   ]
  },
  {
   "cell_type": "markdown",
   "id": "ab35ff92-ae2b-4642-a6f5-fdafe1b0b1ae",
   "metadata": {},
   "source": [
    "## 4.6. Combining data"
   ]
  },
  {
   "cell_type": "markdown",
   "id": "b6cb60bc-56b6-4574-ae20-7d70c97b0b45",
   "metadata": {},
   "source": [
    "Recall that we have name information from 1880 through to 2022, but so far, we've only loaded data from a single file. To solve this, we're going to create one big DataFrame by concatenating all the CSV files we saw earlier, together."
   ]
  },
  {
   "cell_type": "code",
   "execution_count": null,
   "id": "6021c89d-478c-4210-bf53-624254270d1b",
   "metadata": {
    "tags": []
   },
   "outputs": [],
   "source": [
    "# (Cell 460)\n",
    "\n",
    "# Recall all the files available to us:\n",
    "!ls ../data/BabyNames/"
   ]
  },
  {
   "cell_type": "markdown",
   "id": "ac33d1f5-a552-4f07-8331-1ca925df1944",
   "metadata": {},
   "source": [
    "We can load data from many files into a single DataFrame by first creating one DataFrame for each file, then using the Pandas [`concat()`](https://pandas.pydata.org/docs/reference/api/pandas.concat.html?highlight=concat#pandas.concat) function to create one combined DataFrame."
   ]
  },
  {
   "cell_type": "code",
   "execution_count": null,
   "id": "d9944f0f-acb4-4f0b-b658-f3829e205364",
   "metadata": {
    "tags": []
   },
   "outputs": [],
   "source": [
    "# (Cell 461)\n",
    "\n",
    "# A Python list that will hold a DataFrame for each file we load\n",
    "all_years = []\n",
    "\n",
    "# We happen to know that files `yobXXXX.txt` exist for each year from\n",
    "# 1880 to 2022. This `for()` loop will create each of those file names\n",
    "# for us.\n",
    "for year in range(1880, 2022+1):\n",
    "    # The Pandas method `read_csv()` is used to read the contents of a\n",
    "    # file into a Dataframe, with the result stored in the Python list\n",
    "    # `all_years`. Each file is located by constructing a file name\n",
    "    # from the incrementing `year` variable, and the string:\n",
    "    # \"BabyNames/yob{}.txt\"\n",
    "    all_years.append(pd.read_csv('../data/BabyNames/yob{}.txt'.format(year),\n",
    "                                 names = ['Name', 'Sex', 'NumBabies']))\n",
    "    \n",
    "    # This next line is adding a new column to each DataFrame created - 'Year'.\n",
    "    # -> `all_years[-1]` means \"Return the last item put on the list -\n",
    "    #     in our case, the last DataFrame created.\n",
    "    # -> `['Year'] = year` is a way we can add a new column to a\n",
    "    #     DataFrame. In this case, every single row will have the same\n",
    "    #     value set: whatever value the variable `year` is.\n",
    "    all_years[-1]['Year'] = year\n",
    "\n",
    "# Finally, once the `for()` loop has cycled through all the data files,\n",
    "# we concatenate all the generated DataFrames into one large DataFrame.\n",
    "all_names = pd.concat(all_years)"
   ]
  },
  {
   "cell_type": "markdown",
   "id": "40846c39-db63-4ae2-a968-ec4fd8d15502",
   "metadata": {},
   "source": [
    "After all that hard work, what did we end up with?"
   ]
  },
  {
   "cell_type": "code",
   "execution_count": null,
   "id": "642b54d0-4b27-4196-8d88-6788245354a4",
   "metadata": {
    "tags": []
   },
   "outputs": [],
   "source": [
    "# (Cell 462)\n",
    "\n",
    "# Check on the shape of our new DataFrame\n",
    "all_names.shape"
   ]
  },
  {
   "cell_type": "code",
   "execution_count": null,
   "id": "378b6640-95b5-4b42-b3f8-190b3a154bb9",
   "metadata": {
    "tags": []
   },
   "outputs": [],
   "source": [
    "# (Cell 463)\n",
    "\n",
    "# Get the first five rows:\n",
    "all_names.head()"
   ]
  },
  {
   "cell_type": "markdown",
   "id": "5646e7db-54d4-4443-9c17-8ff40e2a8163",
   "metadata": {},
   "source": [
    "We have a new column now, `Year`. We can't see it here, but it makes sense that we now have the same name multiple times, since the same name will exist across multiple years. Let's see:"
   ]
  },
  {
   "cell_type": "code",
   "execution_count": null,
   "id": "90d6fd18-1567-4781-921c-7d6493d87461",
   "metadata": {
    "tags": []
   },
   "outputs": [],
   "source": [
    "# (Cell 464)\n",
    "\n",
    "# This DataFrame has many entries for the name 'Chris' now.\n",
    "all_names[all_names['Name'] == 'Chris']"
   ]
  },
  {
   "cell_type": "markdown",
   "id": "eb7d13cd-ef6a-430d-b6d2-c4d25ceb390b",
   "metadata": {},
   "source": [
    "## 4.7. Graphing data"
   ]
  },
  {
   "cell_type": "markdown",
   "id": "200c01a7-00eb-4018-bc52-9245ab9c7ff4",
   "metadata": {},
   "source": [
    "*I want to make a chart that looks like this:*  \n",
    "<img src=\"data:image/png;base64,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\" />"
   ]
  },
  {
   "cell_type": "code",
   "execution_count": null,
   "id": "aba7c791-0873-459e-a3e7-b4f97f380d7b",
   "metadata": {
    "tags": []
   },
   "outputs": [],
   "source": [
    "# (Cell 470)\n",
    "# Our data currently looks like this\n",
    "all_names"
   ]
  },
  {
   "cell_type": "markdown",
   "id": "737dffeb-55fd-4e62-b801-fe02312f0b79",
   "metadata": {},
   "source": [
    "So from the `all_names` DataFrame, for the name 'Chris', we need to pull out the list of years for the chart's x-axis, and the corresponding number of babies for the y-axis. The [DigitalOcean tutorial](https://www.digitalocean.com/community/tutorials/data-analysis-and-visualization-with-pandas-and-jupyter-notebook-in-python-3#visualize-data) that I've based this workshop off of achieves this by using DataFrame indexes. However, I'm going to suggest we first do it using data grouping techniques we've previously worked with.  "
   ]
  },
  {
   "cell_type": "markdown",
   "id": "1435302c-a375-4fef-9e95-dcc98e2b1cfa",
   "metadata": {},
   "source": [
    "***Plotting crudely-collected data (not grouping by index)***"
   ]
  },
  {
   "cell_type": "code",
   "execution_count": null,
   "id": "b3f62834-814b-4f5c-9476-9a7ab7f091f2",
   "metadata": {
    "tags": []
   },
   "outputs": [],
   "source": [
    "# (Cell 471)\n",
    "\n",
    "# What you want to graph\n",
    "target_name = 'Chris'\n",
    "target_sex = 'M'\n",
    "\n",
    "# Get the data\n",
    "\n",
    "# This retrieves the 'Year' column (accomplished by using `['Year']`)\n",
    "# of the `all_names` DataFrame, where 'Name' == target_name\n",
    "# and 'Sex' == target_sex\n",
    "all_years = all_names[(all_names['Name'] == target_name) & \n",
    "                      (all_names['Sex'] == target_sex)]['Year']\n",
    "\n",
    "all_the_babies = all_names[(all_names['Name'] == target_name) &\n",
    "                             (all_names['Sex'] == target_sex)]['NumBabies']\n",
    "\n",
    "print(\"Here's a sample of what the data in `all_years` looks like:\")\n",
    "print(all_years)"
   ]
  },
  {
   "cell_type": "markdown",
   "id": "94b1bf46-e89c-4d94-80a6-439f0f14d5bc",
   "metadata": {},
   "source": [
    "The next cell will cause any later plot we create to be saved in the notebook. This means if you open this notebook later you won't have to run the code before you can see the plot. *See:* [StackOverflow](https://stackoverflow.com/questions/43027980/purpose-of-matplotlib-inline#43028034)"
   ]
  },
  {
   "cell_type": "code",
   "execution_count": null,
   "id": "09995ce7-4acb-4246-9328-c16cabc796f1",
   "metadata": {
    "tags": []
   },
   "outputs": [],
   "source": [
    "%matplotlib inline"
   ]
  },
  {
   "cell_type": "code",
   "execution_count": null,
   "id": "a3b858c2-fe94-439e-89cd-b6d9aefe251c",
   "metadata": {
    "tags": []
   },
   "outputs": [],
   "source": [
    "# (Cell 472)\n",
    "\n",
    "# Lets plot this data!\n",
    "# Matplotlib is a Python library for creating plots\n",
    "import matplotlib.pyplot as pp\n",
    "\n",
    "# Plot `all_years` on the x-axis, `all_chris_babies` on the y-axis.\n",
    "pp.plot(all_years, all_the_babies)"
   ]
  },
  {
   "cell_type": "markdown",
   "id": "55023206-2a00-4c0d-8493-b05eb04d3f41",
   "metadata": {},
   "source": [
    "***Plotting data based on DataFrame indexes***"
   ]
  },
  {
   "cell_type": "markdown",
   "id": "f580c10f-0d93-4c09-84ee-65ef4b26213f",
   "metadata": {},
   "source": [
    "A DataFrame index allows for quick access into a specific DataFrame location. That index, somewhat unintuitively, doesn't have to be unique, which we'll see in a minute.  \n",
    "\n",
    "How are the rows in the `all_names` DataFrame indexed?"
   ]
  },
  {
   "cell_type": "code",
   "execution_count": null,
   "id": "3872d722-e276-42f7-842f-d51e0b3103f8",
   "metadata": {
    "tags": []
   },
   "outputs": [],
   "source": [
    "# (Cell 473)\n",
    "all_names.index"
   ]
  },
  {
   "cell_type": "markdown",
   "id": "2f3ec99d-eef3-4ac8-a457-f0891b597675",
   "metadata": {},
   "source": [
    "The rows of `all_names` appear to be indexed by number. What are the rows at index '0'?"
   ]
  },
  {
   "cell_type": "code",
   "execution_count": null,
   "id": "a9ffb27e-1a12-442a-9311-e3569710407d",
   "metadata": {
    "tags": []
   },
   "outputs": [],
   "source": [
    "# (Cell 474)\n",
    "all_names.loc[0]"
   ]
  },
  {
   "cell_type": "markdown",
   "id": "d5448901-bf7e-4830-9bf3-457c47003da7",
   "metadata": {},
   "source": [
    "This isn't very helpful to us. Let's make a new \"MultiIndex\", based on the collective values 'Sex', 'Name', and 'Year':"
   ]
  },
  {
   "cell_type": "code",
   "execution_count": null,
   "id": "693629dd-ced6-4689-9bf8-323755e5af48",
   "metadata": {
    "tags": []
   },
   "outputs": [],
   "source": [
    "# (Cell 475)\n",
    "\n",
    "# -> `all_names.set_index(['Sex','Name','Year'])` is creating a new index\n",
    "#    for the `all_names` DataFrame, based on 'Sex', 'Name', then 'Year'.\n",
    "# -> `sort_index()` then sorts the DataFrame rows based on the newly-\n",
    "#    created index. This isn't strictly necessary, but it does speed up\n",
    "#    data access.\n",
    "# -> Everything to the right of '=' doesn't actually change the\n",
    "#    `all_names` DataFrame - it makes a new one. Rather than have a\n",
    "#    second DataFrame around (with the new index), we just overwrite the\n",
    "#    old one.\n",
    "all_names = all_names.set_index(['Sex','Name','Year']).sort_index()\n",
    "\n",
    "print(all_names)"
   ]
  },
  {
   "cell_type": "markdown",
   "id": "6725788e-3c76-4ce1-b258-f6a19f8f1050",
   "metadata": {},
   "source": [
    "The `all_names` DataFrame is looking a little different now. Indexing by the combined ('Sex', 'Name', Year') value of each row has served to group our data. It also means that retrieving data for graph creation has gotten easier."
   ]
  },
  {
   "cell_type": "code",
   "execution_count": null,
   "id": "b9a415c7-e057-4b82-9d40-5c8e8306733d",
   "metadata": {
    "tags": []
   },
   "outputs": [],
   "source": [
    "# (Cell 476)\n",
    "\n",
    "# Easier retrieval of rows, as long as you want to retrieve by sex first,\n",
    "# then name next, then possibly year.\n",
    "print(\"Female Chris' over time:\\n\", all_names.loc[('F', 'Chris')])\n",
    "print(\"\\nMale Chris' from 2020:\\n\", all_names.loc[('M', 'Chris', 2020)])"
   ]
  },
  {
   "cell_type": "code",
   "execution_count": null,
   "id": "93ea31ed-5f22-4afb-acb3-b06b87a4ef58",
   "metadata": {
    "tags": []
   },
   "outputs": [],
   "source": [
    "# (Cell 477)\n",
    "\n",
    "# A simple function to make plotting the popularity of a name over time\n",
    "# as easy as providing a sex and a name.\n",
    "def name_plot(sex, name):\n",
    "    data = all_names.loc[sex, name]\n",
    "    \n",
    "    pp.plot(data.index, data.values)\n",
    "    \n",
    "print(\"Function `name_plot()` defined.\")"
   ]
  },
  {
   "cell_type": "code",
   "execution_count": null,
   "id": "3a3d3022-263d-42bd-ae41-8c8f300d4f53",
   "metadata": {
    "tags": []
   },
   "outputs": [],
   "source": [
    "# (Cell 478)\n",
    "\n",
    "# Using our new function\n",
    "name_plot('M', 'Christopher')"
   ]
  },
  {
   "cell_type": "code",
   "execution_count": null,
   "id": "3fb75b4b-f899-4851-bafb-33f8b7770219",
   "metadata": {
    "tags": []
   },
   "outputs": [],
   "source": [
    "# (Cell 479)\n",
    "\n",
    "# We can plot multiple names on the same chart thanks for how Matplotlib's\n",
    "# \"Pyplot\" functionality works. You can call `pp.plot()` multiple times,\n",
    "# causing plots to be built \"on top\" of one another.\n",
    "\n",
    "# Make our chart bigger\n",
    "pp.figure(figsize = (18, 8))\n",
    "\n",
    "# Names and gender to search. Change, add, or remove as you desire, but\n",
    "# be careful to have lines end with a comma!\n",
    "names = {\n",
    "#   Name:Sex\n",
    "    'Hannah':'F',\n",
    "    'Christopher':'M',\n",
    "    'Bailey':'F'\n",
    "}\n",
    "\n",
    "# This loop will call the function `name_plot` for each Name:Sex pair\n",
    "# you set, above.\n",
    "for name, sex in names.items():\n",
    "    name_plot(sex, name)\n",
    "\n",
    "# Puts a legend on the plot\n",
    "pp.legend(names)"
   ]
  },
  {
   "cell_type": "markdown",
   "id": "f492ac99-8328-4110-9103-88e2f8df8432",
   "metadata": {},
   "source": [
    "***Bonus question!***  \n",
    "Were the same number of babies born every year? Probably not. When we're graphing over time, consider how this might make our graphs of name popularity misleading. To investigate this you could try answering these questions:\n",
    "1. How has the rate of births changed year-to-year?\n",
    "2. Can we chart a name's *relative* popularity? We've charted absolute numbers, but maybe a name is more popular than we realize *relative to the number of babies born in a year.*\n",
    "3. What about name \"concentration?\" Of the total babies born in a year, how evenly spread are they across all names?"
   ]
  },
  {
   "cell_type": "markdown",
   "id": "093c2cc8-874f-40ef-b912-02498e9d3eb4",
   "metadata": {},
   "source": [
    "## 4.8. Learn more about analyzing data in Jupyter"
   ]
  },
  {
   "cell_type": "markdown",
   "id": "0222f792-c362-4ab0-8551-dd3b06d05838",
   "metadata": {},
   "source": [
    "See the appendix section *Data analysis* in the `Jupyter_Notebooks_Workshop.ipynb` file, under the \"Links\" section."
   ]
  },
  {
   "cell_type": "code",
   "execution_count": null,
   "id": "41cf10d6-e8a6-4249-b37f-d538036a5193",
   "metadata": {},
   "outputs": [],
   "source": []
  }
 ],
 "metadata": {
  "kernelspec": {
   "display_name": "Python 3 (ipykernel)",
   "language": "python",
   "name": "python3"
  },
  "language_info": {
   "codemirror_mode": {
    "name": "ipython",
    "version": 3
   },
   "file_extension": ".py",
   "mimetype": "text/x-python",
   "name": "python",
   "nbconvert_exporter": "python",
   "pygments_lexer": "ipython3",
   "version": "3.10.12"
  }
 },
 "nbformat": 4,
 "nbformat_minor": 5
}
